{
 "cells": [
  {
   "cell_type": "markdown",
   "metadata": {},
   "source": [
    "# Chapter 1: Python Primer"
   ]
  },
  {
   "cell_type": "markdown",
   "metadata": {},
   "source": [
    "**R-1.1** Write a short Python function, `is_multiple(n, m)`, that takes two integer values and returns `True` if `n` is a multiple of `m`, that is, `n = mi` for some integer `i`, and `False` otherwise."
   ]
  },
  {
   "cell_type": "code",
   "execution_count": 1,
   "metadata": {},
   "outputs": [],
   "source": [
    "def is_multiple(n,m):\n",
    "    if m % n == 0:\n",
    "        return True\n",
    "    else:\n",
    "        return False"
   ]
  },
  {
   "cell_type": "code",
   "execution_count": 2,
   "metadata": {},
   "outputs": [
    {
     "name": "stdout",
     "output_type": "stream",
     "text": [
      "True\n",
      "False\n",
      "True\n",
      "True\n"
     ]
    }
   ],
   "source": [
    "print(is_multiple(-12, 132))\n",
    "print(is_multiple(8, 70))\n",
    "print(is_multiple(9, 72))\n",
    "print(is_multiple(13, 2340))"
   ]
  },
  {
   "cell_type": "markdown",
   "metadata": {},
   "source": [
    "**R-1.2** Write a short Python function, `is_even(k)`, that takes an integer value and returns `True` if k is even, and `False` otherwise. However, your function cannot use the multiplication, modulo, or division operators."
   ]
  },
  {
   "cell_type": "code",
   "execution_count": 3,
   "metadata": {},
   "outputs": [],
   "source": [
    "def is_even(n):\n",
    "    assert type(n) == int, 'Your input must be an integer'\n",
    "    return (n&1 == 0)    "
   ]
  },
  {
   "cell_type": "code",
   "execution_count": 4,
   "metadata": {},
   "outputs": [
    {
     "name": "stdout",
     "output_type": "stream",
     "text": [
      "True\n",
      "False\n",
      "True\n",
      "False\n"
     ]
    }
   ],
   "source": [
    "print(is_even(10))\n",
    "print(is_even(7))\n",
    "print(is_even(1228))\n",
    "print(is_even(1733))"
   ]
  },
  {
   "cell_type": "markdown",
   "metadata": {},
   "source": [
    "**R-1.3** Write a short Python function, `minmax(data)`, that takes a sequence of one or more numbers, and returns the smallest and largest numbers, in the form of a tuple of length two. Do not use the built-in functions min or max in implementing your solution."
   ]
  },
  {
   "cell_type": "code",
   "execution_count": 5,
   "metadata": {},
   "outputs": [],
   "source": [
    "def minmax(data):\n",
    "    if len(data):\n",
    "        small = data[0]\n",
    "        large = data[0]\n",
    "        for value in data:\n",
    "            if value < small:\n",
    "                small = value\n",
    "            elif value > large:\n",
    "                large = value\n",
    "        return (small, large)\n",
    "    else:\n",
    "        print('Your data source is empy')\n",
    "        return None"
   ]
  },
  {
   "cell_type": "code",
   "execution_count": 6,
   "metadata": {
    "scrolled": true
   },
   "outputs": [
    {
     "name": "stdout",
     "output_type": "stream",
     "text": [
      "(-1, 12)\n",
      "Your data source is empy\n",
      "None\n",
      "(-85, 122)\n"
     ]
    }
   ],
   "source": [
    "print(minmax([12,7,3,10,-1]))\n",
    "print(minmax([]))\n",
    "print(minmax([69,103,-50,-85,122]))"
   ]
  },
  {
   "cell_type": "markdown",
   "metadata": {},
   "source": [
    "**R-1.4** Write a short Python function that takes a positive integer n and returns the sum of the squares of all the positive integers smaller than n."
   ]
  },
  {
   "cell_type": "code",
   "execution_count": 7,
   "metadata": {},
   "outputs": [],
   "source": [
    "def square_sum_traditional(num):\n",
    "    suma = 0\n",
    "    for i in range(num):\n",
    "        suma += i**2\n",
    "    return suma"
   ]
  },
  {
   "cell_type": "code",
   "execution_count": 8,
   "metadata": {},
   "outputs": [
    {
     "name": "stdout",
     "output_type": "stream",
     "text": [
      "1015\n",
      "204\n",
      "0\n"
     ]
    }
   ],
   "source": [
    "print(square_sum_traditional(15))\n",
    "print(square_sum_traditional(9))\n",
    "print(square_sum_traditional(0))"
   ]
  },
  {
   "cell_type": "markdown",
   "metadata": {},
   "source": [
    "**R-1.5** Give a single command that computes the sum from Exercise R-1.4, rely- ing on Python’s comprehension syntax and the built-in sum function."
   ]
  },
  {
   "cell_type": "code",
   "execution_count": 9,
   "metadata": {},
   "outputs": [],
   "source": [
    "def square_sum(num):\n",
    "    return sum([i ** 2 for i in range(num)])"
   ]
  },
  {
   "cell_type": "code",
   "execution_count": 10,
   "metadata": {},
   "outputs": [
    {
     "name": "stdout",
     "output_type": "stream",
     "text": [
      "1015\n",
      "204\n",
      "0\n"
     ]
    }
   ],
   "source": [
    "print(square_sum(15))\n",
    "print(square_sum(9))\n",
    "print(square_sum(0))"
   ]
  },
  {
   "cell_type": "markdown",
   "metadata": {},
   "source": [
    "**R-1.6** Write a short Python function that takes a positive integer n and returns the sum of the squares of all the odd positive integers smaller than n."
   ]
  },
  {
   "cell_type": "code",
   "execution_count": 11,
   "metadata": {},
   "outputs": [],
   "source": [
    "def square_none_sum(num):\n",
    "    suma = 0\n",
    "    for i in range(num):\n",
    "        if i % 2 == 1:\n",
    "            suma += i**2\n",
    "        else:\n",
    "            pass\n",
    "    return suma"
   ]
  },
  {
   "cell_type": "code",
   "execution_count": 12,
   "metadata": {},
   "outputs": [
    {
     "name": "stdout",
     "output_type": "stream",
     "text": [
      "0\n",
      "0\n",
      "1\n",
      "1\n",
      "10\n",
      "10\n",
      "35\n",
      "35\n",
      "84\n",
      "84\n",
      "165\n",
      "165\n",
      "286\n",
      "286\n",
      "455\n",
      "455\n",
      "680\n",
      "680\n",
      "969\n",
      "969\n"
     ]
    }
   ],
   "source": [
    "for i in range(20):\n",
    "    print(square_none_sum(i))"
   ]
  },
  {
   "cell_type": "markdown",
   "metadata": {},
   "source": [
    "**R-1.7** Give a single command that computes the sum from Exercise R-1.6, rely- ing on Python’s comprehension syntax and the built-in sum function."
   ]
  },
  {
   "cell_type": "code",
   "execution_count": 13,
   "metadata": {},
   "outputs": [],
   "source": [
    "def square_none_sum(num):\n",
    "    return sum([i**2 for i in range(num) if i%2 == 1])"
   ]
  },
  {
   "cell_type": "code",
   "execution_count": 14,
   "metadata": {},
   "outputs": [
    {
     "name": "stdout",
     "output_type": "stream",
     "text": [
      "0\n",
      "0\n",
      "1\n",
      "1\n",
      "10\n",
      "10\n",
      "35\n",
      "35\n",
      "84\n",
      "84\n",
      "165\n",
      "165\n",
      "286\n",
      "286\n",
      "455\n",
      "455\n",
      "680\n",
      "680\n",
      "969\n",
      "969\n"
     ]
    }
   ],
   "source": [
    "for i in range(20):\n",
    "    print(square_none_sum(i))"
   ]
  }
 ],
 "metadata": {
  "kernelspec": {
   "display_name": "Python 3",
   "language": "python",
   "name": "python3"
  },
  "language_info": {
   "codemirror_mode": {
    "name": "ipython",
    "version": 3
   },
   "file_extension": ".py",
   "mimetype": "text/x-python",
   "name": "python",
   "nbconvert_exporter": "python",
   "pygments_lexer": "ipython3",
   "version": "3.7.6"
  }
 },
 "nbformat": 4,
 "nbformat_minor": 4
}
