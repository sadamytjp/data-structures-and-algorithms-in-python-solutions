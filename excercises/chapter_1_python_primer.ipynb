{
 "cells": [
  {
   "cell_type": "markdown",
   "metadata": {},
   "source": [
    "# Chapter 1: Python Primer"
   ]
  },
  {
   "cell_type": "markdown",
   "metadata": {},
   "source": [
    "### Reinforcement"
   ]
  },
  {
   "cell_type": "markdown",
   "metadata": {},
   "source": [
    "**R-1.1** Write a short Python function, `is_multiple(n, m)`, that takes two integer values and returns `True` if `n` is a multiple of `m`, that is, `n = mi` for some integer `i`, and `False` otherwise."
   ]
  },
  {
   "cell_type": "code",
   "execution_count": 1,
   "metadata": {},
   "outputs": [],
   "source": [
    "def is_multiple(n,m):\n",
    "    if m % n == 0:\n",
    "        return True\n",
    "    else:\n",
    "        return False"
   ]
  },
  {
   "cell_type": "code",
   "execution_count": 2,
   "metadata": {},
   "outputs": [
    {
     "name": "stdout",
     "output_type": "stream",
     "text": [
      "True\n",
      "False\n",
      "True\n",
      "True\n"
     ]
    }
   ],
   "source": [
    "print(is_multiple(-12, 132))\n",
    "print(is_multiple(8, 70))\n",
    "print(is_multiple(9, 72))\n",
    "print(is_multiple(13, 2340))"
   ]
  },
  {
   "cell_type": "markdown",
   "metadata": {},
   "source": [
    "**R-1.2** Write a short Python function, `is_even(k)`, that takes an integer value and returns `True` if k is even, and `False` otherwise. However, your function cannot use the multiplication, modulo, or division operators."
   ]
  },
  {
   "cell_type": "code",
   "execution_count": 3,
   "metadata": {},
   "outputs": [],
   "source": [
    "def is_even(n):\n",
    "    assert type(n) == int, 'Your input must be an integer'\n",
    "    return (n&1 == 0)    "
   ]
  },
  {
   "cell_type": "code",
   "execution_count": 4,
   "metadata": {},
   "outputs": [
    {
     "name": "stdout",
     "output_type": "stream",
     "text": [
      "True\n",
      "False\n",
      "True\n",
      "False\n"
     ]
    }
   ],
   "source": [
    "print(is_even(10))\n",
    "print(is_even(7))\n",
    "print(is_even(1228))\n",
    "print(is_even(1733))"
   ]
  },
  {
   "cell_type": "markdown",
   "metadata": {},
   "source": [
    "**R-1.3** Write a short Python function, `minmax(data)`, that takes a sequence of one or more numbers, and returns the smallest and largest numbers, in the form of a tuple of length two. Do not use the built-in functions min or max in implementing your solution."
   ]
  },
  {
   "cell_type": "code",
   "execution_count": 5,
   "metadata": {},
   "outputs": [],
   "source": [
    "def minmax(data):\n",
    "    if len(data):\n",
    "        small = data[0]\n",
    "        large = data[0]\n",
    "        for value in data:\n",
    "            if value < small:\n",
    "                small = value\n",
    "            elif value > large:\n",
    "                large = value\n",
    "        return (small, large)\n",
    "    else:\n",
    "        print('Your data source is empy')\n",
    "        return None"
   ]
  },
  {
   "cell_type": "code",
   "execution_count": 6,
   "metadata": {
    "scrolled": true
   },
   "outputs": [
    {
     "name": "stdout",
     "output_type": "stream",
     "text": [
      "(-1, 12)\n",
      "Your data source is empy\n",
      "None\n",
      "(-85, 122)\n"
     ]
    }
   ],
   "source": [
    "print(minmax([12,7,3,10,-1]))\n",
    "print(minmax([]))\n",
    "print(minmax([69,103,-50,-85,122]))"
   ]
  },
  {
   "cell_type": "markdown",
   "metadata": {},
   "source": [
    "**R-1.4** Write a short Python function that takes a positive integer n and returns the sum of the squares of all the positive integers smaller than n."
   ]
  },
  {
   "cell_type": "code",
   "execution_count": 7,
   "metadata": {},
   "outputs": [],
   "source": [
    "def square_sum_traditional(num):\n",
    "    suma = 0\n",
    "    for i in range(num):\n",
    "        suma += i**2\n",
    "    return suma"
   ]
  },
  {
   "cell_type": "code",
   "execution_count": 8,
   "metadata": {},
   "outputs": [
    {
     "name": "stdout",
     "output_type": "stream",
     "text": [
      "1015\n",
      "204\n",
      "0\n"
     ]
    }
   ],
   "source": [
    "print(square_sum_traditional(15))\n",
    "print(square_sum_traditional(9))\n",
    "print(square_sum_traditional(0))"
   ]
  },
  {
   "cell_type": "markdown",
   "metadata": {},
   "source": [
    "**R-1.5** Give a single command that computes the sum from Exercise R-1.4, rely- ing on Python’s comprehension syntax and the built-in sum function."
   ]
  },
  {
   "cell_type": "code",
   "execution_count": 9,
   "metadata": {},
   "outputs": [],
   "source": [
    "def square_sum(num):\n",
    "    return sum([i ** 2 for i in range(num)])"
   ]
  },
  {
   "cell_type": "code",
   "execution_count": 10,
   "metadata": {},
   "outputs": [
    {
     "name": "stdout",
     "output_type": "stream",
     "text": [
      "1015\n",
      "204\n",
      "0\n"
     ]
    }
   ],
   "source": [
    "print(square_sum(15))\n",
    "print(square_sum(9))\n",
    "print(square_sum(0))"
   ]
  },
  {
   "cell_type": "markdown",
   "metadata": {},
   "source": [
    "**R-1.6** Write a short Python function that takes a positive integer n and returns the sum of the squares of all the odd positive integers smaller than n."
   ]
  },
  {
   "cell_type": "code",
   "execution_count": 11,
   "metadata": {},
   "outputs": [],
   "source": [
    "def square_none_sum(num):\n",
    "    suma = 0\n",
    "    for i in range(num):\n",
    "        if i % 2 == 1:\n",
    "            suma += i**2\n",
    "        else:\n",
    "            pass\n",
    "    return suma"
   ]
  },
  {
   "cell_type": "code",
   "execution_count": 12,
   "metadata": {},
   "outputs": [
    {
     "name": "stdout",
     "output_type": "stream",
     "text": [
      "0\n",
      "0\n",
      "1\n",
      "1\n",
      "10\n",
      "10\n",
      "35\n",
      "35\n",
      "84\n",
      "84\n",
      "165\n",
      "165\n",
      "286\n",
      "286\n",
      "455\n",
      "455\n",
      "680\n",
      "680\n",
      "969\n",
      "969\n"
     ]
    }
   ],
   "source": [
    "for i in range(20):\n",
    "    print(square_none_sum(i))"
   ]
  },
  {
   "cell_type": "markdown",
   "metadata": {},
   "source": [
    "**R-1.7** Give a single command that computes the sum from Exercise R-1.6, rely- ing on Python’s comprehension syntax and the built-in sum function."
   ]
  },
  {
   "cell_type": "code",
   "execution_count": 13,
   "metadata": {},
   "outputs": [],
   "source": [
    "def square_none_sum(num):\n",
    "    return sum([i**2 for i in range(num) if i%2 == 1])"
   ]
  },
  {
   "cell_type": "code",
   "execution_count": 14,
   "metadata": {},
   "outputs": [
    {
     "name": "stdout",
     "output_type": "stream",
     "text": [
      "0\n",
      "0\n",
      "1\n",
      "1\n",
      "10\n",
      "10\n",
      "35\n",
      "35\n",
      "84\n",
      "84\n",
      "165\n",
      "165\n",
      "286\n",
      "286\n",
      "455\n",
      "455\n",
      "680\n",
      "680\n",
      "969\n",
      "969\n"
     ]
    }
   ],
   "source": [
    "for i in range(20):\n",
    "    print(square_none_sum(i))"
   ]
  },
  {
   "cell_type": "markdown",
   "metadata": {},
   "source": [
    "**R-1.9** What parameters should be sent to the range constructor, to produce a range with values 50, 60, 70, 80?"
   ]
  },
  {
   "cell_type": "code",
   "execution_count": 15,
   "metadata": {},
   "outputs": [
    {
     "data": {
      "text/plain": [
       "[50, 60, 70, 80]"
      ]
     },
     "execution_count": 15,
     "metadata": {},
     "output_type": "execute_result"
    }
   ],
   "source": [
    "list(range(50,81,10))"
   ]
  },
  {
   "cell_type": "markdown",
   "metadata": {},
   "source": [
    "**R-1.10** What parameters should be sent to the range constructor, to produce a range with values 8, 6, 4, 2, 0, −2, −4, −6, −8?"
   ]
  },
  {
   "cell_type": "code",
   "execution_count": 16,
   "metadata": {},
   "outputs": [
    {
     "data": {
      "text/plain": [
       "[8, 6, 4, 2, 0, -2, -4, -6, -8]"
      ]
     },
     "execution_count": 16,
     "metadata": {},
     "output_type": "execute_result"
    }
   ],
   "source": [
    "list(range(8,-9,-2))"
   ]
  },
  {
   "cell_type": "markdown",
   "metadata": {},
   "source": [
    "**R-1.11** Demonstrate how to use Python’s list comprehension syntax to produce the list `[1, 2, 4, 8, 16, 32, 64, 128, 256]`."
   ]
  },
  {
   "cell_type": "code",
   "execution_count": 17,
   "metadata": {},
   "outputs": [
    {
     "data": {
      "text/plain": [
       "[1, 2, 4, 8, 16, 32, 64, 128, 256]"
      ]
     },
     "execution_count": 17,
     "metadata": {},
     "output_type": "execute_result"
    }
   ],
   "source": [
    "[2**x for x in range(9)]"
   ]
  },
  {
   "cell_type": "markdown",
   "metadata": {},
   "source": [
    "**R-1.12** Python’s random module includes a function choice(data) that returns a random element from a non-empty sequence. The random module in- cludes a more basic function randrange, with parameterization similar to the built-in range function, that return a random choice from the given range. Using only the randrange function, implement your own version of the choice function."
   ]
  },
  {
   "cell_type": "markdown",
   "metadata": {},
   "source": [
    "### Creativity"
   ]
  },
  {
   "cell_type": "markdown",
   "metadata": {},
   "source": [
    "**C-1.13** Write a pseudo-code description of a function that reverses a list of n integers, so that the numbers are listed in the opposite order than they were before, and compare this method to an equivalent Python function for doing the same thing."
   ]
  },
  {
   "cell_type": "code",
   "execution_count": 18,
   "metadata": {},
   "outputs": [],
   "source": [
    "my_list = [7,4,6,8,5]"
   ]
  },
  {
   "cell_type": "code",
   "execution_count": 19,
   "metadata": {},
   "outputs": [
    {
     "name": "stdout",
     "output_type": "stream",
     "text": [
      "[5, 8, 6, 4, 7]\n",
      "[5, 8, 6, 4, 7]\n"
     ]
    }
   ],
   "source": [
    "new_list = []\n",
    "length = len(my_list)\n",
    "for i in range(length):\n",
    "    new_list.append(my_list[length-1-i])\n",
    "    \n",
    "best_way =  list(reversed(my_list))\n",
    "print(best_way)\n",
    "print(new_list)"
   ]
  },
  {
   "cell_type": "markdown",
   "metadata": {},
   "source": [
    "**C-1.15** Write a Python function that takes a sequence of numbers and determines if all the numbers are different from each other (that is, they are distinct)."
   ]
  },
  {
   "cell_type": "code",
   "execution_count": 20,
   "metadata": {},
   "outputs": [],
   "source": [
    "def are_num_different(array):\n",
    "    \n",
    "    if len(array) == len(set(array)):\n",
    "        return \"No duplicates\"\n",
    "    else:\n",
    "        return \"Duplicates\""
   ]
  },
  {
   "cell_type": "code",
   "execution_count": 21,
   "metadata": {},
   "outputs": [
    {
     "name": "stdout",
     "output_type": "stream",
     "text": [
      "Duplicates\n",
      "No duplicates\n",
      "Duplicates\n"
     ]
    }
   ],
   "source": [
    "print(are_num_different([1,2,2,4,5]))\n",
    "print(are_num_different([1,10,20,30,40,50,60]))\n",
    "print(are_num_different([1,2,3,4,5,6,7,8,9,9,10]))"
   ]
  },
  {
   "cell_type": "markdown",
   "metadata": {},
   "source": [
    "**C-1.18** Demonstrate how to use Python’s list comprehension syntax to produce\n",
    "the list `[0, 2, 6, 12, 20, 30, 42, 56, 72, 90]`."
   ]
  },
  {
   "cell_type": "code",
   "execution_count": 22,
   "metadata": {},
   "outputs": [
    {
     "data": {
      "text/plain": [
       "[0, 2, 6, 12, 20, 30, 42, 56, 72, 90]"
      ]
     },
     "execution_count": 22,
     "metadata": {},
     "output_type": "execute_result"
    }
   ],
   "source": [
    "[x*(x+1) for x in range(10)]"
   ]
  },
  {
   "cell_type": "markdown",
   "metadata": {},
   "source": [
    "**C-1.19** Demonstrate how to use Python’s list comprehension syntax to produce the list `[ a , b , c ,..., z ]`, but without having to type all 26 such characters literally."
   ]
  },
  {
   "cell_type": "code",
   "execution_count": 23,
   "metadata": {},
   "outputs": [
    {
     "name": "stdout",
     "output_type": "stream",
     "text": [
      "['a', 'b', 'c', 'd', 'e', 'f', 'g', 'h', 'i', 'j', 'k', 'l', 'm', 'n', 'o', 'p', 'q', 'r', 's', 't', 'u', 'v', 'w', 'x', 'y', 'z']\n"
     ]
    }
   ],
   "source": [
    "print([chr(x) for x in range(97,123)])"
   ]
  },
  {
   "cell_type": "markdown",
   "metadata": {},
   "source": [
    "**C-1.22** Write a short Python program that takes two arrays a and b of length n storing int values, and returns the dot product of `a` and `b`. That is, it returns an array `c` of length `n` such that `c[i] = a[i]·b[i]`, for `i = 0,...,n−1`.\n"
   ]
  },
  {
   "cell_type": "code",
   "execution_count": 24,
   "metadata": {},
   "outputs": [],
   "source": [
    "def dot_product(arr1, arr2):\n",
    "    assert len(arr1) == len(arr2), \"Arrays must be the same size\"\n",
    "    return[arr1[i] * arr2[i] for i in range(len(arr1))]"
   ]
  },
  {
   "cell_type": "code",
   "execution_count": 25,
   "metadata": {},
   "outputs": [
    {
     "name": "stdout",
     "output_type": "stream",
     "text": [
      "[5, 12, 21, 32]\n",
      "[100000, 400000, 900000, 1600000, 2500000]\n",
      "[0, 24, 96, 216, 384, 600, 864, 1176, 1536, 1944, 2400]\n"
     ]
    }
   ],
   "source": [
    "print(dot_product([1,2,3,4],[5,6,7,8]))\n",
    "print(dot_product([100,200,300,400,500],[1000, 2000, 3000, 4000, 5000]))\n",
    "print(dot_product([0,4,8,12,16,20,24,28,32,36,40], [0,6,12,18,24,30,36,42,48,54,60]))"
   ]
  },
  {
   "cell_type": "markdown",
   "metadata": {},
   "source": [
    "**C-1.24** Write a short Python function that counts the number of vowels in a given\n",
    "character string."
   ]
  },
  {
   "cell_type": "code",
   "execution_count": 44,
   "metadata": {},
   "outputs": [],
   "source": [
    "def count_vowels(string):\n",
    "    counter = 0\n",
    "    characters = [\"a\", \"e\", \"i\", \"o\", \"u\"]\n",
    "    for c in string:\n",
    "        if c in characters:\n",
    "            counter += 1\n",
    "    return counter      "
   ]
  },
  {
   "cell_type": "code",
   "execution_count": 48,
   "metadata": {
    "scrolled": true
   },
   "outputs": [
    {
     "name": "stdout",
     "output_type": "stream",
     "text": [
      "2\n",
      "5\n",
      "5\n",
      "8\n"
     ]
    }
   ],
   "source": [
    "print(count_vowels(\"Hola\"))\n",
    "print(count_vowels(\"euforia\"))\n",
    "print(count_vowels(\"arquitecto\"))\n",
    "print(count_vowels(\"hooooolaaa\"))"
   ]
  },
  {
   "cell_type": "markdown",
   "metadata": {},
   "source": [
    "**C-1.26** Write a short program that takes as input three integers, a, b, and c, from the console and determines if they can be used in a correct arithmetic formula (in the given order), like “a+b = c,” “a = b−c,” or “a∗b = c.”"
   ]
  },
  {
   "cell_type": "code",
   "execution_count": 50,
   "metadata": {},
   "outputs": [],
   "source": [
    "def arithmetic_formula(a,b,c):\n",
    "    if a + b == c:\n",
    "        return \"Works for addition\"\n",
    "    elif b - c == a:\n",
    "        return \"Works for substraction\"\n",
    "    elif a * b == c:\n",
    "        return \"Works for multiplication\"\n",
    "    elif a / b == c:\n",
    "        return \"Works for division\"\n",
    "    else:\n",
    "        return \"Doesn't work\""
   ]
  },
  {
   "cell_type": "code",
   "execution_count": 52,
   "metadata": {},
   "outputs": [
    {
     "name": "stdout",
     "output_type": "stream",
     "text": [
      "Works for addition\n",
      "Works for multiplication\n",
      "Works for substraction\n",
      "Works for division\n",
      "Doesn't work\n"
     ]
    }
   ],
   "source": [
    "print(arithmetic_formula(1,2,3))\n",
    "print(arithmetic_formula(1,3,3))\n",
    "print(arithmetic_formula(1,4,3))\n",
    "print(arithmetic_formula(10,2,5))\n",
    "print(arithmetic_formula(4,1,3))"
   ]
  },
  {
   "cell_type": "markdown",
   "metadata": {},
   "source": [
    "### Projects"
   ]
  },
  {
   "cell_type": "markdown",
   "metadata": {},
   "source": [
    "**P-1.30** Write a Python program that can take a positive integer greater than 2 as input and write out the number of times one must repeatedly divide this number by 2 before getting a value less than 2."
   ]
  },
  {
   "cell_type": "code",
   "execution_count": 93,
   "metadata": {},
   "outputs": [],
   "source": [
    "def number_of_iterations(integer):\n",
    "    assert integer > 2, \"The number must be grater than two\"\n",
    "    counter = 0\n",
    "    while integer >= 2:\n",
    "        integer = integer / 2\n",
    "        counter += 1\n",
    "    return counter"
   ]
  },
  {
   "cell_type": "code",
   "execution_count": 101,
   "metadata": {},
   "outputs": [
    {
     "name": "stdout",
     "output_type": "stream",
     "text": [
      "6\n",
      "33\n",
      "66\n",
      "112\n"
     ]
    }
   ],
   "source": [
    "print(number_of_iterations(100))\n",
    "print(number_of_iterations(10000000000))\n",
    "print(number_of_iterations(100000000000000000000))\n",
    "print(number_of_iterations(10000000000000000000000000000000000))"
   ]
  }
 ],
 "metadata": {
  "kernelspec": {
   "display_name": "Python 3",
   "language": "python",
   "name": "python3"
  },
  "language_info": {
   "codemirror_mode": {
    "name": "ipython",
    "version": 3
   },
   "file_extension": ".py",
   "mimetype": "text/x-python",
   "name": "python",
   "nbconvert_exporter": "python",
   "pygments_lexer": "ipython3",
   "version": "3.7.6"
  }
 },
 "nbformat": 4,
 "nbformat_minor": 4
}
